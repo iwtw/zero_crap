{
 "cells": [
  {
   "cell_type": "code",
   "execution_count": 2,
   "metadata": {
    "collapsed": true
   },
   "outputs": [],
   "source": [
    "import matplotlib.pyplot as plt\n",
    "import numpy as np"
   ]
  },
  {
   "cell_type": "code",
   "execution_count": 6,
   "metadata": {},
   "outputs": [
    {
     "name": "stdout",
     "output_type": "stream",
     "text": [
      "176\n",
      "225\n"
     ]
    },
    {
     "data": {
      "image/png": "[encoded data removed]",
      "text/plain": [
       "<matplotlib.figure.Figure at 0x7fbbc33a6ac8>"
      ]
     },
     "metadata": {},
     "output_type": "display_data"
    }
   ],
   "source": [
    "train_list = open('../../data/semifinal_image_phase2/train.txt').read().strip().split('\\n')\n",
    "class_cnt = {}\n",
    "for line in train_list:\n",
    "    label = line.split('\\t')[1]\n",
    "    if label not in class_cnt:\n",
    "        class_cnt[label] = 1\n",
    "    else:\n",
    "        class_cnt[label] += 1\n",
    "\n",
    "a = []\n",
    "for k in class_cnt:\n",
    "    a.append( class_cnt[k] )\n",
    "    \n",
    "print( min(a) )\n",
    "print( max(a) )\n",
    "plt.figure()\n",
    "plt.hist(a)\n",
    "plt.show()"
   ]
  }
 ],
 "metadata": {
  "kernelspec": {
   "display_name": "Python 3",
   "language": "python",
   "name": "python3"
  },
  "language_info": {
   "codemirror_mode": {
    "name": "ipython",
    "version": 3
   },
   "file_extension": ".py",
   "mimetype": "text/x-python",
   "name": "python",
   "nbconvert_exporter": "python",
   "pygments_lexer": "ipython3",
   "version": "3.6.3"
  }
 },
 "nbformat": 4,
 "nbformat_minor": 2
}
